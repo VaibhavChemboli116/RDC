{
 "cells": [
  {
   "cell_type": "code",
   "execution_count": 1,
   "id": "bd825abc",
   "metadata": {
    "_cell_guid": "b1076dfc-b9ad-4769-8c92-a6c4dae69d19",
    "_uuid": "8f2839f25d086af736a60e9eeb907d3b93b6e0e5",
    "execution": {
     "iopub.execute_input": "2024-12-14T20:14:40.822217Z",
     "iopub.status.busy": "2024-12-14T20:14:40.821888Z",
     "iopub.status.idle": "2024-12-14T20:15:24.609920Z",
     "shell.execute_reply": "2024-12-14T20:15:24.608939Z"
    },
    "papermill": {
     "duration": 43.79385,
     "end_time": "2024-12-14T20:15:24.611994",
     "exception": false,
     "start_time": "2024-12-14T20:14:40.818144",
     "status": "completed"
    },
    "tags": []
   },
   "outputs": [
    {
     "name": "stdout",
     "output_type": "stream",
     "text": [
      "Train dataset:\n",
      "Number of images: 18400\n",
      "Number of classes: 8\n",
      "Classes: ['AMD', 'CNV', 'CSR', 'DME', 'DR', 'DRUSEN', 'MH', 'NORMAL']\n",
      "\n",
      "Validation dataset:\n",
      "Number of images: 2800\n",
      "Number of classes: 8\n",
      "Classes: ['AMD', 'CNV', 'CSR', 'DME', 'DR', 'DRUSEN', 'MH', 'NORMAL']\n",
      "\n",
      "Test dataset:\n",
      "Number of images: 2800\n",
      "Number of classes: 8\n",
      "Classes: ['AMD', 'CNV', 'CSR', 'DME', 'DR', 'DRUSEN', 'MH', 'NORMAL']\n",
      "\n",
      "Shape of images batch: torch.Size([32, 3, 224, 224])\n",
      "Shape of labels batch: torch.Size([32])\n"
     ]
    }
   ],
   "source": [
    "import os\n",
    "from torchvision import datasets, transforms\n",
    "from torch.utils.data import DataLoader\n",
    "\n",
    "dataset_dir = \"/kaggle/input/retinal-oct-c8/RetinalOCT_Dataset/RetinalOCT_Dataset\"\n",
    "\n",
    "train_transforms = transforms.Compose([\n",
    "    transforms.Resize((224, 224)),\n",
    "    transforms.RandomHorizontalFlip(),\n",
    "    transforms.RandomRotation(10),\n",
    "    transforms.ToTensor(),\n",
    "    transforms.Normalize(mean=[0.5], std=[0.5])\n",
    "])\n",
    "\n",
    "val_test_transforms = transforms.Compose([\n",
    "    transforms.Resize((224, 224)),\n",
    "    transforms.ToTensor(),\n",
    "    transforms.Normalize(mean=[0.5], std=[0.5])\n",
    "])\n",
    "\n",
    "train_dataset = datasets.ImageFolder(os.path.join(dataset_dir, 'train'), transform=train_transforms)\n",
    "val_dataset = datasets.ImageFolder(os.path.join(dataset_dir, 'val'), transform=val_test_transforms)\n",
    "test_dataset = datasets.ImageFolder(os.path.join(dataset_dir, 'test'), transform=val_test_transforms)\n",
    "\n",
    "batch_size = 32\n",
    "train_loader = DataLoader(train_dataset, batch_size=batch_size, shuffle=True)\n",
    "val_loader = DataLoader(val_dataset, batch_size=batch_size, shuffle=False)\n",
    "test_loader = DataLoader(test_dataset, batch_size=batch_size, shuffle=False)\n",
    "\n",
    "def print_dataset_info(name, dataset):\n",
    "    print(f\"{name} dataset:\")\n",
    "    print(f\"Number of images: {len(dataset)}\")\n",
    "    print(f\"Number of classes: {len(dataset.classes)}\")\n",
    "    print(f\"Classes: {dataset.classes}\\n\")\n",
    "\n",
    "print_dataset_info(\"Train\", train_dataset)\n",
    "print_dataset_info(\"Validation\", val_dataset)\n",
    "print_dataset_info(\"Test\", test_dataset)\n",
    "\n",
    "for images, labels in train_loader:\n",
    "    print(f\"Shape of images batch: {images.shape}\")\n",
    "    print(f\"Shape of labels batch: {labels.shape}\")\n",
    "    break"
   ]
  },
  {
   "cell_type": "code",
   "execution_count": 2,
   "id": "ed7706f8",
   "metadata": {
    "execution": {
     "iopub.execute_input": "2024-12-14T20:15:24.617750Z",
     "iopub.status.busy": "2024-12-14T20:15:24.617029Z",
     "iopub.status.idle": "2024-12-14T20:15:27.577405Z",
     "shell.execute_reply": "2024-12-14T20:15:27.576430Z"
    },
    "papermill": {
     "duration": 2.965234,
     "end_time": "2024-12-14T20:15:27.579303",
     "exception": false,
     "start_time": "2024-12-14T20:15:24.614069",
     "status": "completed"
    },
    "tags": []
   },
   "outputs": [
    {
     "name": "stdout",
     "output_type": "stream",
     "text": [
      "Output shape: torch.Size([1, 8])\n"
     ]
    }
   ],
   "source": [
    "import torch\n",
    "import torch.nn as nn\n",
    "\n",
    "class AtrousConvBlock(nn.Module):\n",
    "    def __init__(self, in_channels, out_channels, dilation):\n",
    "        super(AtrousConvBlock, self).__init__()\n",
    "        self.conv = nn.Conv2d(\n",
    "            in_channels, out_channels, kernel_size=3, padding=dilation, dilation=dilation\n",
    "        )\n",
    "        self.bn = nn.BatchNorm2d(out_channels)\n",
    "        self.relu = nn.ReLU(inplace=True)\n",
    "\n",
    "    def forward(self, x):\n",
    "        x = self.conv(x)\n",
    "        x = self.bn(x)\n",
    "        x = self.relu(x)\n",
    "        return x\n",
    "\n",
    "class AtrousClassifier(nn.Module):\n",
    "    def __init__(self, in_channels, num_classes, input_size=224):\n",
    "        super(AtrousClassifier, self).__init__()\n",
    "\n",
    "        self.atrous1 = AtrousConvBlock(in_channels, 64, dilation=1)\n",
    "        self.pool1 = nn.MaxPool2d(2, 2)\n",
    "        self.atrous2 = AtrousConvBlock(64, 128, dilation=2)\n",
    "        self.pool2 = nn.MaxPool2d(2, 2)\n",
    "        self.atrous3 = AtrousConvBlock(128, 256, dilation=4)\n",
    "        self.pool3 = nn.MaxPool2d(2, 2)\n",
    "\n",
    "        test_input = torch.randn(1, in_channels, input_size, input_size)\n",
    "        with torch.no_grad():\n",
    "            x = self.pool1(self.atrous1(test_input))\n",
    "            x = self.pool2(self.atrous2(x))\n",
    "            x = self.pool3(self.atrous3(x))\n",
    "            flattened_size = x.numel()\n",
    "\n",
    "        self.flatten = nn.Flatten()\n",
    "        self.fc1 = nn.Linear(flattened_size, 1024)\n",
    "        self.dropout1 = nn.Dropout(p=0.5)\n",
    "        self.fc2 = nn.Linear(1024, 512)\n",
    "        self.dropout2 = nn.Dropout(p=0.5)\n",
    "        self.fc3 = nn.Linear(512, num_classes)\n",
    "\n",
    "    def forward(self, x):\n",
    "        x = self.pool1(self.atrous1(x))\n",
    "        x = self.pool2(self.atrous2(x))\n",
    "        x = self.pool3(self.atrous3(x))\n",
    "\n",
    "        x = self.flatten(x)\n",
    "        x = self.fc1(x)\n",
    "        x = self.dropout1(x)\n",
    "        x = self.fc2(x)\n",
    "        x = self.dropout2(x)\n",
    "        x = self.fc3(x)\n",
    "        return x\n",
    "\n",
    "num_classes = 8\n",
    "device = torch.device(\"cuda\" if torch.cuda.is_available() else \"cpu\")\n",
    "model = AtrousClassifier(in_channels=3, num_classes=num_classes, input_size=224).to(device)\n",
    "\n",
    "dummy_input = torch.randn(1, 3, 224, 224).to(device)\n",
    "output = model(dummy_input)\n",
    "print(f\"Output shape: {output.shape}\")\n"
   ]
  },
  {
   "cell_type": "code",
   "execution_count": 3,
   "id": "17fd0570",
   "metadata": {
    "execution": {
     "iopub.execute_input": "2024-12-14T20:15:27.584706Z",
     "iopub.status.busy": "2024-12-14T20:15:27.584355Z",
     "iopub.status.idle": "2024-12-14T22:17:12.961299Z",
     "shell.execute_reply": "2024-12-14T22:17:12.960392Z"
    },
    "papermill": {
     "duration": 7305.381853,
     "end_time": "2024-12-14T22:17:12.963058",
     "exception": false,
     "start_time": "2024-12-14T20:15:27.581205",
     "status": "completed"
    },
    "tags": []
   },
   "outputs": [
    {
     "name": "stdout",
     "output_type": "stream",
     "text": [
      "\n",
      "Epoch [1/32]\n"
     ]
    },
    {
     "name": "stderr",
     "output_type": "stream",
     "text": [
      "                                                                      \r"
     ]
    },
    {
     "name": "stdout",
     "output_type": "stream",
     "text": [
      "Epoch [1/32] Summary | Train Loss: 22.3775, Train Acc: 42.23% | Val Loss: 1.6905, Val Acc: 51.00%\n",
      "\n",
      "Epoch [2/32]\n"
     ]
    },
    {
     "name": "stderr",
     "output_type": "stream",
     "text": [
      "                                                                      \r"
     ]
    },
    {
     "name": "stdout",
     "output_type": "stream",
     "text": [
      "Epoch [2/32] Summary | Train Loss: 1.5113, Train Acc: 52.15% | Val Loss: 0.9575, Val Acc: 59.89%\n",
      "\n",
      "Epoch [3/32]\n"
     ]
    },
    {
     "name": "stderr",
     "output_type": "stream",
     "text": [
      "                                                                       \r"
     ]
    },
    {
     "name": "stdout",
     "output_type": "stream",
     "text": [
      "Epoch [3/32] Summary | Train Loss: 1.0486, Train Acc: 59.22% | Val Loss: 0.9903, Val Acc: 61.57%\n",
      "\n",
      "Epoch [4/32]\n"
     ]
    },
    {
     "name": "stderr",
     "output_type": "stream",
     "text": [
      "                                                                       \r"
     ]
    },
    {
     "name": "stdout",
     "output_type": "stream",
     "text": [
      "Epoch [4/32] Summary | Train Loss: 0.7957, Train Acc: 67.56% | Val Loss: 0.5921, Val Acc: 76.18%\n",
      "\n",
      "Epoch [5/32]\n"
     ]
    },
    {
     "name": "stderr",
     "output_type": "stream",
     "text": [
      "                                                                       \r"
     ]
    },
    {
     "name": "stdout",
     "output_type": "stream",
     "text": [
      "Epoch [5/32] Summary | Train Loss: 0.7320, Train Acc: 71.49% | Val Loss: 0.5611, Val Acc: 78.00%\n",
      "\n",
      "Epoch [6/32]\n"
     ]
    },
    {
     "name": "stderr",
     "output_type": "stream",
     "text": [
      "                                                                       \r"
     ]
    },
    {
     "name": "stdout",
     "output_type": "stream",
     "text": [
      "Epoch [6/32] Summary | Train Loss: 0.6576, Train Acc: 75.53% | Val Loss: 0.7195, Val Acc: 72.64%\n",
      "\n",
      "Epoch [7/32]\n"
     ]
    },
    {
     "name": "stderr",
     "output_type": "stream",
     "text": [
      "                                                                       \r"
     ]
    },
    {
     "name": "stdout",
     "output_type": "stream",
     "text": [
      "Epoch [7/32] Summary | Train Loss: 0.5423, Train Acc: 80.12% | Val Loss: 0.4774, Val Acc: 80.82%\n",
      "\n",
      "Epoch [8/32]\n"
     ]
    },
    {
     "name": "stderr",
     "output_type": "stream",
     "text": [
      "                                                                       \r"
     ]
    },
    {
     "name": "stdout",
     "output_type": "stream",
     "text": [
      "Epoch [8/32] Summary | Train Loss: 0.4485, Train Acc: 83.22% | Val Loss: 0.3735, Val Acc: 87.50%\n",
      "\n",
      "Epoch [9/32]\n"
     ]
    },
    {
     "name": "stderr",
     "output_type": "stream",
     "text": [
      "                                                                       \r"
     ]
    },
    {
     "name": "stdout",
     "output_type": "stream",
     "text": [
      "Epoch [9/32] Summary | Train Loss: 0.3947, Train Acc: 85.58% | Val Loss: 0.3296, Val Acc: 88.46%\n",
      "\n",
      "Epoch [10/32]\n"
     ]
    },
    {
     "name": "stderr",
     "output_type": "stream",
     "text": [
      "                                                                       \r"
     ]
    },
    {
     "name": "stdout",
     "output_type": "stream",
     "text": [
      "Epoch [10/32] Summary | Train Loss: 0.4554, Train Acc: 83.96% | Val Loss: 0.3574, Val Acc: 87.18%\n",
      "\n",
      "Epoch [11/32]\n"
     ]
    },
    {
     "name": "stderr",
     "output_type": "stream",
     "text": [
      "                                                                       \r"
     ]
    },
    {
     "name": "stdout",
     "output_type": "stream",
     "text": [
      "Epoch [11/32] Summary | Train Loss: 0.3599, Train Acc: 86.98% | Val Loss: 0.2898, Val Acc: 89.54%\n",
      "\n",
      "Epoch [12/32]\n"
     ]
    },
    {
     "name": "stderr",
     "output_type": "stream",
     "text": [
      "                                                                       \r"
     ]
    },
    {
     "name": "stdout",
     "output_type": "stream",
     "text": [
      "Epoch [12/32] Summary | Train Loss: 0.3140, Train Acc: 88.82% | Val Loss: 0.3241, Val Acc: 88.14%\n",
      "\n",
      "Epoch [13/32]\n"
     ]
    },
    {
     "name": "stderr",
     "output_type": "stream",
     "text": [
      "                                                                       \r"
     ]
    },
    {
     "name": "stdout",
     "output_type": "stream",
     "text": [
      "Epoch [13/32] Summary | Train Loss: 0.3720, Train Acc: 87.25% | Val Loss: 0.3911, Val Acc: 86.71%\n",
      "\n",
      "Epoch [14/32]\n"
     ]
    },
    {
     "name": "stderr",
     "output_type": "stream",
     "text": [
      "                                                                       \r"
     ]
    },
    {
     "name": "stdout",
     "output_type": "stream",
     "text": [
      "Epoch [14/32] Summary | Train Loss: 0.2934, Train Acc: 89.61% | Val Loss: 0.2628, Val Acc: 91.25%\n",
      "\n",
      "Epoch [15/32]\n"
     ]
    },
    {
     "name": "stderr",
     "output_type": "stream",
     "text": [
      "                                                                       \r"
     ]
    },
    {
     "name": "stdout",
     "output_type": "stream",
     "text": [
      "Epoch [15/32] Summary | Train Loss: 0.2749, Train Acc: 90.44% | Val Loss: 0.2928, Val Acc: 89.29%\n",
      "\n",
      "Epoch [16/32]\n"
     ]
    },
    {
     "name": "stderr",
     "output_type": "stream",
     "text": [
      "                                                                       \r"
     ]
    },
    {
     "name": "stdout",
     "output_type": "stream",
     "text": [
      "Epoch [16/32] Summary | Train Loss: 0.2726, Train Acc: 90.67% | Val Loss: 0.2832, Val Acc: 90.79%\n",
      "\n",
      "Epoch [17/32]\n"
     ]
    },
    {
     "name": "stderr",
     "output_type": "stream",
     "text": [
      "                                                                        \r"
     ]
    },
    {
     "name": "stdout",
     "output_type": "stream",
     "text": [
      "Epoch [17/32] Summary | Train Loss: 0.2738, Train Acc: 90.78% | Val Loss: 0.3030, Val Acc: 89.36%\n",
      "\n",
      "Epoch [18/32]\n"
     ]
    },
    {
     "name": "stderr",
     "output_type": "stream",
     "text": [
      "                                                                       \r"
     ]
    },
    {
     "name": "stdout",
     "output_type": "stream",
     "text": [
      "Epoch [18/32] Summary | Train Loss: 0.2700, Train Acc: 91.05% | Val Loss: 0.2453, Val Acc: 91.54%\n",
      "\n",
      "Epoch [19/32]\n"
     ]
    },
    {
     "name": "stderr",
     "output_type": "stream",
     "text": [
      "                                                                       \r"
     ]
    },
    {
     "name": "stdout",
     "output_type": "stream",
     "text": [
      "Epoch [19/32] Summary | Train Loss: 0.2581, Train Acc: 91.24% | Val Loss: 0.3011, Val Acc: 89.68%\n",
      "\n",
      "Epoch [20/32]\n"
     ]
    },
    {
     "name": "stderr",
     "output_type": "stream",
     "text": [
      "                                                                       \r"
     ]
    },
    {
     "name": "stdout",
     "output_type": "stream",
     "text": [
      "Epoch [20/32] Summary | Train Loss: 0.2670, Train Acc: 90.88% | Val Loss: 0.3508, Val Acc: 89.93%\n",
      "\n",
      "Epoch [21/32]\n"
     ]
    },
    {
     "name": "stderr",
     "output_type": "stream",
     "text": [
      "                                                                       \r"
     ]
    },
    {
     "name": "stdout",
     "output_type": "stream",
     "text": [
      "Epoch [21/32] Summary | Train Loss: 0.7341, Train Acc: 78.16% | Val Loss: 0.3755, Val Acc: 86.68%\n",
      "\n",
      "Epoch [22/32]\n"
     ]
    },
    {
     "name": "stderr",
     "output_type": "stream",
     "text": [
      "                                                                       \r"
     ]
    },
    {
     "name": "stdout",
     "output_type": "stream",
     "text": [
      "Epoch [22/32] Summary | Train Loss: 0.5478, Train Acc: 82.02% | Val Loss: 0.4081, Val Acc: 87.36%\n",
      "\n",
      "Epoch [23/32]\n"
     ]
    },
    {
     "name": "stderr",
     "output_type": "stream",
     "text": [
      "                                                                        \r"
     ]
    },
    {
     "name": "stdout",
     "output_type": "stream",
     "text": [
      "Epoch [23/32] Summary | Train Loss: 0.3450, Train Acc: 88.08% | Val Loss: 0.3163, Val Acc: 88.68%\n",
      "\n",
      "Epoch [24/32]\n"
     ]
    },
    {
     "name": "stderr",
     "output_type": "stream",
     "text": [
      "                                                                       \r"
     ]
    },
    {
     "name": "stdout",
     "output_type": "stream",
     "text": [
      "Epoch [24/32] Summary | Train Loss: 0.2813, Train Acc: 90.35% | Val Loss: 0.2501, Val Acc: 91.11%\n",
      "\n",
      "Epoch [25/32]\n"
     ]
    },
    {
     "name": "stderr",
     "output_type": "stream",
     "text": [
      "                                                                       \r"
     ]
    },
    {
     "name": "stdout",
     "output_type": "stream",
     "text": [
      "Epoch [25/32] Summary | Train Loss: 0.2731, Train Acc: 90.82% | Val Loss: 0.2268, Val Acc: 92.07%\n",
      "\n",
      "Epoch [26/32]\n"
     ]
    },
    {
     "name": "stderr",
     "output_type": "stream",
     "text": [
      "                                                                        \r"
     ]
    },
    {
     "name": "stdout",
     "output_type": "stream",
     "text": [
      "Epoch [26/32] Summary | Train Loss: 0.2473, Train Acc: 91.82% | Val Loss: 0.3023, Val Acc: 90.00%\n",
      "\n",
      "Epoch [27/32]\n"
     ]
    },
    {
     "name": "stderr",
     "output_type": "stream",
     "text": [
      "                                                                      \r"
     ]
    },
    {
     "name": "stdout",
     "output_type": "stream",
     "text": [
      "Epoch [27/32] Summary | Train Loss: 0.2438, Train Acc: 92.01% | Val Loss: 0.2116, Val Acc: 92.71%\n",
      "\n",
      "Epoch [28/32]\n"
     ]
    },
    {
     "name": "stderr",
     "output_type": "stream",
     "text": [
      "                                                                       \r"
     ]
    },
    {
     "name": "stdout",
     "output_type": "stream",
     "text": [
      "Epoch [28/32] Summary | Train Loss: 0.6263, Train Acc: 80.84% | Val Loss: 0.3208, Val Acc: 89.50%\n",
      "\n",
      "Epoch [29/32]\n"
     ]
    },
    {
     "name": "stderr",
     "output_type": "stream",
     "text": [
      "                                                                       \r"
     ]
    },
    {
     "name": "stdout",
     "output_type": "stream",
     "text": [
      "Epoch [29/32] Summary | Train Loss: 0.3174, Train Acc: 89.68% | Val Loss: 0.2364, Val Acc: 92.57%\n",
      "\n",
      "Epoch [30/32]\n"
     ]
    },
    {
     "name": "stderr",
     "output_type": "stream",
     "text": [
      "                                                                       \r"
     ]
    },
    {
     "name": "stdout",
     "output_type": "stream",
     "text": [
      "Epoch [30/32] Summary | Train Loss: 0.2554, Train Acc: 91.66% | Val Loss: 0.1937, Val Acc: 93.43%\n",
      "\n",
      "Epoch [31/32]\n"
     ]
    },
    {
     "name": "stderr",
     "output_type": "stream",
     "text": [
      "                                                                        \r"
     ]
    },
    {
     "name": "stdout",
     "output_type": "stream",
     "text": [
      "Epoch [31/32] Summary | Train Loss: 0.2323, Train Acc: 92.54% | Val Loss: 0.2157, Val Acc: 93.39%\n",
      "\n",
      "Epoch [32/32]\n"
     ]
    },
    {
     "name": "stderr",
     "output_type": "stream",
     "text": [
      "                                                                       \r"
     ]
    },
    {
     "name": "stdout",
     "output_type": "stream",
     "text": [
      "Epoch [32/32] Summary | Train Loss: 0.2303, Train Acc: 92.58% | Val Loss: 0.2727, Val Acc: 90.61%\n",
      "Best model saved as 'best_model.pth'.\n"
     ]
    },
    {
     "name": "stderr",
     "output_type": "stream",
     "text": [
      "Testing: 100%|██████████| 88/88 [00:35<00:00,  2.49it/s, Loss=0.19]\n"
     ]
    },
    {
     "name": "stdout",
     "output_type": "stream",
     "text": [
      "Test Loss: 0.2822, Test Accuracy: 90.50%\n"
     ]
    },
    {
     "data": {
      "image/png": "[encoded data removed]",
      "text/plain": [
       "<Figure size 1200x500 with 2 Axes>"
      ]
     },
     "metadata": {},
     "output_type": "display_data"
    }
   ],
   "source": [
    "import torch\n",
    "import torch.nn as nn\n",
    "import torch.optim as optim\n",
    "from tqdm import tqdm\n",
    "import matplotlib.pyplot as plt\n",
    "\n",
    "def train_model(model, train_loader, val_loader, test_loader, device, epochs=20, lr=0.001):\n",
    "    criterion = nn.CrossEntropyLoss()\n",
    "    optimizer = optim.Adam(model.parameters(), lr=lr)\n",
    "\n",
    "    train_losses, val_losses, test_losses = [], [], []\n",
    "    train_accuracies, val_accuracies, test_accuracies = [], [], []\n",
    "\n",
    "    best_val_loss = float(\"inf\")\n",
    "    best_model_state = None\n",
    "\n",
    "    for epoch in range(epochs):\n",
    "        print(f\"\\nEpoch [{epoch + 1}/{epochs}]\")\n",
    "        model.train()\n",
    "        running_loss = 0.0\n",
    "        correct = 0\n",
    "        total = 0\n",
    "\n",
    "        train_progress = tqdm(train_loader, desc=\"Training\", leave=False)\n",
    "        for images, labels in train_progress:\n",
    "            images, labels = images.to(device), labels.to(device)\n",
    "\n",
    "            outputs = model(images)\n",
    "            loss = criterion(outputs, labels)\n",
    "\n",
    "            optimizer.zero_grad()\n",
    "            loss.backward()\n",
    "            optimizer.step()\n",
    "\n",
    "            running_loss += loss.item()\n",
    "            _, predicted = outputs.max(1)\n",
    "            total += labels.size(0)\n",
    "            correct += predicted.eq(labels).sum().item()\n",
    "\n",
    "            train_progress.set_postfix({\"Loss\": loss.item()})\n",
    "\n",
    "        train_loss = running_loss / len(train_loader)\n",
    "        train_accuracy = 100.0 * correct / total\n",
    "        train_losses.append(train_loss)\n",
    "        train_accuracies.append(train_accuracy)\n",
    "\n",
    "        model.eval()\n",
    "        val_loss, val_correct, val_total = 0.0, 0, 0\n",
    "\n",
    "        val_progress = tqdm(val_loader, desc=\"Validating\", leave=False)\n",
    "        with torch.no_grad():\n",
    "            for images, labels in val_progress:\n",
    "                images, labels = images.to(device), labels.to(device)\n",
    "                outputs = model(images)\n",
    "                loss = criterion(outputs, labels)\n",
    "\n",
    "                val_loss += loss.item()\n",
    "                _, predicted = outputs.max(1)\n",
    "                val_total += labels.size(0)\n",
    "                val_correct += predicted.eq(labels).sum().item()\n",
    "\n",
    "                val_progress.set_postfix({\"Loss\": loss.item()})\n",
    "\n",
    "        val_loss /= len(val_loader)\n",
    "        val_accuracy = 100.0 * val_correct / val_total\n",
    "        val_losses.append(val_loss)\n",
    "        val_accuracies.append(val_accuracy)\n",
    "\n",
    "        if val_loss < best_val_loss:\n",
    "            best_val_loss = val_loss\n",
    "            best_model_state = model.state_dict()\n",
    "\n",
    "        print(\n",
    "            f\"Epoch [{epoch + 1}/{epochs}] Summary | \"\n",
    "            f\"Train Loss: {train_loss:.4f}, Train Acc: {train_accuracy:.2f}% | \"\n",
    "            f\"Val Loss: {val_loss:.4f}, Val Acc: {val_accuracy:.2f}%\"\n",
    "        )\n",
    "\n",
    "    if best_model_state is not None:\n",
    "        torch.save(best_model_state, \"best_model.pth\")\n",
    "        print(\"Best model saved as 'best_model.pth'.\")\n",
    "\n",
    "    model.load_state_dict(best_model_state)\n",
    "    test_loss, test_correct, test_total = 0.0, 0, 0\n",
    "\n",
    "    test_progress = tqdm(test_loader, desc=\"Testing\")\n",
    "    model.eval()\n",
    "    with torch.no_grad():\n",
    "        for images, labels in test_progress:\n",
    "            images, labels = images.to(device), labels.to(device)\n",
    "            outputs = model(images)\n",
    "            loss = criterion(outputs, labels)\n",
    "\n",
    "            test_loss += loss.item()\n",
    "            _, predicted = outputs.max(1)\n",
    "            test_total += labels.size(0)\n",
    "            test_correct += predicted.eq(labels).sum().item()\n",
    "\n",
    "            test_progress.set_postfix({\"Loss\": loss.item()})\n",
    "\n",
    "    test_loss /= len(test_loader)\n",
    "    test_accuracy = 100.0 * test_correct / test_total\n",
    "    test_losses.append(test_loss)\n",
    "    test_accuracies.append(test_accuracy)\n",
    "\n",
    "    print(f\"Test Loss: {test_loss:.4f}, Test Accuracy: {test_accuracy:.2f}%\")\n",
    "\n",
    "    epochs_range = range(1, epochs + 1)\n",
    "    plt.figure(figsize=(12, 5))\n",
    "\n",
    "    plt.subplot(1, 2, 1)\n",
    "    plt.plot(epochs_range, train_losses, label=\"Train Loss\")\n",
    "    plt.plot(epochs_range, val_losses, label=\"Validation Loss\")\n",
    "    plt.xlabel(\"Epochs\")\n",
    "    plt.ylabel(\"Loss\")\n",
    "    plt.title(\"Loss Over Epochs\")\n",
    "    plt.legend()\n",
    "\n",
    "    plt.subplot(1, 2, 2)\n",
    "    plt.plot(epochs_range, train_accuracies, label=\"Train Accuracy\")\n",
    "    plt.plot(epochs_range, val_accuracies, label=\"Validation Accuracy\")\n",
    "    plt.xlabel(\"Epochs\")\n",
    "    plt.ylabel(\"Accuracy (%)\")\n",
    "    plt.title(\"Accuracy Over Epochs\")\n",
    "    plt.legend()\n",
    "\n",
    "    plt.tight_layout()\n",
    "    plt.show()\n",
    "\n",
    "    return train_losses, val_losses, test_losses, train_accuracies, val_accuracies, test_accuracies\n",
    "\n",
    "\n",
    "num_classes = 8\n",
    "device = torch.device(\"cuda\" if torch.cuda.is_available() else \"cpu\")\n",
    "model = AtrousClassifier(in_channels=3, num_classes=num_classes).to(device)\n",
    "\n",
    "train_losses, val_losses, test_losses, train_accuracies, val_accuracies, test_accuracies = train_model(\n",
    "    model, train_loader, val_loader, test_loader, device, epochs=32, lr=1e-3\n",
    ")\n"
   ]
  },
  {
   "cell_type": "code",
   "execution_count": null,
   "id": "cb46674e",
   "metadata": {
    "papermill": {
     "duration": 2.103625,
     "end_time": "2024-12-14T22:17:17.180553",
     "exception": false,
     "start_time": "2024-12-14T22:17:15.076928",
     "status": "completed"
    },
    "tags": []
   },
   "outputs": [],
   "source": []
  }
 ],
 "metadata": {
  "kaggle": {
   "accelerator": "gpu",
   "dataSources": [
    {
     "datasetId": 1629109,
     "sourceId": 9595300,
     "sourceType": "datasetVersion"
    }
   ],
   "dockerImageVersionId": 30805,
   "isGpuEnabled": true,
   "isInternetEnabled": true,
   "language": "python",
   "sourceType": "notebook"
  },
  "kernelspec": {
   "display_name": "Python 3",
   "language": "python",
   "name": "python3"
  },
  "language_info": {
   "codemirror_mode": {
    "name": "ipython",
    "version": 3
   },
   "file_extension": ".py",
   "mimetype": "text/x-python",
   "name": "python",
   "nbconvert_exporter": "python",
   "pygments_lexer": "ipython3",
   "version": "3.10.14"
  },
  "papermill": {
   "default_parameters": {},
   "duration": 7362.05473,
   "end_time": "2024-12-14T22:17:20.497081",
   "environment_variables": {},
   "exception": null,
   "input_path": "__notebook__.ipynb",
   "output_path": "__notebook__.ipynb",
   "parameters": {},
   "start_time": "2024-12-14T20:14:38.442351",
   "version": "2.6.0"
  }
 },
 "nbformat": 4,
 "nbformat_minor": 5
}
